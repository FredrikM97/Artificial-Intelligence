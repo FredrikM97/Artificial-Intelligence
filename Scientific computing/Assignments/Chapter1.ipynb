{
 "cells": [
  {
   "cell_type": "markdown",
   "metadata": {},
   "source": [
    "# 1.1)"
   ]
  },
  {
   "cell_type": "code",
   "execution_count": null,
   "metadata": {},
   "outputs": [],
   "source": [
    "import math\n",
    "\n",
    "epsilon = 1\n",
    "n = 1\n",
    "while(1 + epsilon > 1):\n",
    "    epsilon = math.pow(2,-n)\n",
    "    n = n + 1\n",
    "\n",
    "\"N: {}, Epsilon: {}\".format(n, epsilon)\n"
   ]
  },
  {
   "cell_type": "markdown",
   "metadata": {},
   "source": [
    "# 1.2 a)"
   ]
  },
  {
   "cell_type": "code",
   "execution_count": null,
   "metadata": {},
   "outputs": [],
   "source": [
    "import numpy as np\n",
    "import math\n",
    "y = [4,6]\n",
    "for i in y:\n",
    "    x = np.arange(0, 1, math.pow(10, -i))\n",
    "    print(x[np.sin(x).round(i) == x.round(i)][-1])\n",
    "    #x[np.cos(x).round(i) == ][-1]\n",
    "\n",
    "\n"
   ]
  },
  {
   "cell_type": "markdown",
   "metadata": {},
   "source": [
    "# 1.2 b)"
   ]
  },
  {
   "cell_type": "code",
   "execution_count": 31,
   "metadata": {},
   "outputs": [
    {
     "name": "stdout",
     "output_type": "stream",
     "text": [
      "0.18000000000000002\n",
      "0.057999999999999996\n"
     ]
    }
   ],
   "source": [
    "import numpy as np\n",
    "import math\n",
    "y = [4,6]\n",
    "for i in y:\n",
    "    x = np.arange(0, math.sqrt(2), math.pow(10, -i))\n",
    "    print(x[np.cos(x).round(i) == (1 - (np.power(x,2)/2))][-1])"
   ]
  },
  {
   "cell_type": "markdown",
   "metadata": {},
   "source": [
    "# 1.2 c)"
   ]
  },
  {
   "cell_type": "code",
   "execution_count": 46,
   "metadata": {},
   "outputs": [
    {
     "name": "stdout",
     "output_type": "stream",
     "text": [
      "0.08\n",
      "0.026\n"
     ]
    }
   ],
   "source": [
    "np.seterr(divide='ignore')\n",
    "import numpy as np\n",
    "import math\n",
    "\n",
    "y = [4,6]\n",
    "for i in y:\n",
    "    x = np.arange(0, 1, math.pow(10, -i))\n",
    "    print(x[(1/(1-np.power(x,2))).round(i) == (1 + np.power(x,2))][-1])"
   ]
  },
  {
   "cell_type": "markdown",
   "metadata": {},
   "source": [
    "# 1.3 a)"
   ]
  },
  {
   "cell_type": "code",
   "execution_count": null,
   "metadata": {},
   "outputs": [],
   "source": []
  }
 ],
 "metadata": {
  "kernelspec": {
   "display_name": "Python 3",
   "language": "python",
   "name": "python3"
  },
  "language_info": {
   "codemirror_mode": {
    "name": "ipython",
    "version": 3
   },
   "file_extension": ".py",
   "mimetype": "text/x-python",
   "name": "python",
   "nbconvert_exporter": "python",
   "pygments_lexer": "ipython3",
   "version": "3.7.4"
  }
 },
 "nbformat": 4,
 "nbformat_minor": 4
}
