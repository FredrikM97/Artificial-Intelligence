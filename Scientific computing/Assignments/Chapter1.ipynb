{
 "cells": [
  {
   "cell_type": "markdown",
   "metadata": {},
   "source": [
    "# 1.1)"
   ]
  },
  {
   "cell_type": "code",
   "execution_count": null,
   "metadata": {},
   "outputs": [],
   "source": [
    "import math\n",
    "\n",
    "epsilon = 1\n",
    "n = 1\n",
    "while(1 + epsilon > 1):\n",
    "    epsilon = math.pow(2,-n)\n",
    "    n = n + 1\n",
    "\n",
    "\"N: {}, Epsilon: {}\".format(n, epsilon)\n"
   ]
  },
  {
   "cell_type": "markdown",
   "metadata": {},
   "source": [
    "# 1.2 a)"
   ]
  },
  {
   "cell_type": "code",
   "execution_count": null,
   "metadata": {},
   "outputs": [],
   "source": [
    "import numpy as np\n",
    "import math\n",
    "y = [4,6]\n",
    "for i in y:\n",
    "    x = np.arange(0, 1, math.pow(10, -i))\n",
    "    print(x[np.sin(x).round(i) == x.round(i)][-1])\n",
    "    #x[np.cos(x).round(i) == ][-1]\n",
    "\n",
    "\n"
   ]
  },
  {
   "cell_type": "markdown",
   "metadata": {},
   "source": [
    "# 1.2 b)"
   ]
  },
  {
   "cell_type": "code",
   "execution_count": 31,
   "metadata": {},
   "outputs": [
    {
     "name": "stdout",
     "output_type": "stream",
     "text": [
      "0.18000000000000002\n",
      "0.057999999999999996\n"
     ]
    }
   ],
   "source": [
    "import numpy as np\n",
    "import math\n",
    "y = [4,6]\n",
    "for i in y:\n",
    "    x = np.arange(0, math.sqrt(2), math.pow(10, -i))\n",
    "    print(x[np.cos(x).round(i) == (1 - (np.power(x,2)/2))][-1])"
   ]
  },
  {
   "cell_type": "markdown",
   "metadata": {},
   "source": [
    "# 1.2 c)"
   ]
  },
  {
   "cell_type": "code",
   "execution_count": 46,
   "metadata": {},
   "outputs": [
    {
     "name": "stdout",
     "output_type": "stream",
     "text": [
      "0.08\n",
      "0.026\n"
     ]
    }
   ],
   "source": [
    "np.seterr(divide='ignore')\n",
    "import numpy as np\n",
    "import math\n",
    "\n",
    "y = [4,6]\n",
    "for i in y:\n",
    "    x = np.arange(0, 1, math.pow(10, -i))\n",
    "    print(x[(1/(1-np.power(x,2))).round(i) == (1 + np.power(x,2))][-1])"
   ]
  },
  {
   "cell_type": "markdown",
   "metadata": {},
   "source": [
    "# 1.3 a)\n",
    "**Want**:\n",
    "* Determine m for l(x)\n",
    "* Determine k for l(x)\n",
    "* Determine x\n",
    "* Difference between abs(y(x)-l(x))\n",
    "* Extream point\n",
    "\n",
    "\n",
    "## How to calculate $x$:\n",
    "Derivate:\n",
    "1. $d(x^{-1/2)} - kx+m)= 0$\n",
    "2. $x=1/(4k²)$\n"
   ]
  },
  {
   "cell_type": "code",
   "execution_count": 2,
   "metadata": {},
   "outputs": [
    {
     "name": "stdout",
     "output_type": "stream",
     "text": [
      "h \t x^* \t\t sigma^*\n",
      "0.1 \t 0.04872 \t 0.00033779127520650043\n",
      "0.01 \t 0.00499 \t 3.148609739822561e-06\n",
      "0.001 \t 0.00050 \t 3.127345460374187e-08\n",
      "0.0001 \t 0.00005 \t 3.1252334053988307e-10\n"
     ]
    }
   ],
   "source": [
    "import math\n",
    "\n",
    "n = [1,2,3,4]\n",
    "table = []\n",
    "\n",
    "def y(x):\n",
    "    return x**(1/2)\n",
    "\n",
    "def l(h,x):\n",
    "    k = (1-(1-h)**(1/2))/(1 - (1-h)) #y/x\n",
    "    m = (1-h)**(1/2) \n",
    "    return k*x+m\n",
    "\n",
    "for kay in n:\n",
    "    h = 10**(-kay)\n",
    "    start = 1-h\n",
    "    x = 1/(4*(1-(1-h)**(1/2))/(1 - (1-h))**2)\n",
    "    delta = y(start+x) - l(h,x)\n",
    "    table.append([h,x,delta])\n",
    "#print(\"debug: h: \" + str(h) + \" y(x):\" +  str(y(x)) + \" l(x):\" + str(l(h,x)))\n",
    "#print(\"delta: \" + str(delta))\n",
    "\n",
    "print('h \\t x^* \\t\\t sigma^*') \n",
    "for x in table:\n",
    "    print('{0} \\t {1:.5f} \\t {2}'.format(x[0],x[1],x[2],10))"
   ]
  },
  {
   "cell_type": "markdown",
   "metadata": {},
   "source": [
    "# 1.3 b)"
   ]
  },
  {
   "cell_type": "code",
   "execution_count": null,
   "metadata": {},
   "outputs": [],
   "source": [
    "def deltafunc(x):\n",
    "    return y(start+x) - l(h,x)\n",
    "\n",
    "for kay in range(0,len(n)):\n",
    "    print(deltafunc(table[1])*table[0]^)\n",
    "    "
   ]
  }
 ],
 "metadata": {
  "kernelspec": {
   "display_name": "Python 3",
   "language": "python",
   "name": "python3"
  },
  "language_info": {
   "codemirror_mode": {
    "name": "ipython",
    "version": 3
   },
   "file_extension": ".py",
   "mimetype": "text/x-python",
   "name": "python",
   "nbconvert_exporter": "python",
   "pygments_lexer": "ipython3",
   "version": "3.7.4"
  }
 },
 "nbformat": 4,
 "nbformat_minor": 4
}
